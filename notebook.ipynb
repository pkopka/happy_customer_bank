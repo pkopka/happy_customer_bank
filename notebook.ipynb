{
 "cells": [
  {
   "cell_type": "markdown",
   "metadata": {},
   "source": [
    "Opis problemu\n",
    "============\n",
    "Problem pochodzi z [konkursu](https://discuss.analyticsvidhya.com/t/hackathon-3-x-predict-customer-worth-for-happy-customer-bank/3802)\n",
    "\n",
    "\n",
    "Średniej wielkości bank w Indiach zajmujący się pożyczkami u indywidualnych klientów posiada platformę internetową do udzielania kredytów. Bank pozyskuje wielu klientów poprzez kampanie reklamowe, spamowanie poczty, telemarketing.\n",
    "Tysiące klientów przekłada się na mały procent udzielanych kredytów. Celem modelu będzie klasyfikacja klienta na podstawie wypełnionego formularza czy zostanie mu przydzielony kredyt. Klient najpierw wypełnia formularz internetowy podając swoje dane osobowe oraz wysokość kwotę o jaką się ubiega. Następnie bank wysyła swoją propozycję spłaty kredytu, która może pokrywać się z deklaracjami klienta. Kolejnymi etapami są dostarczenie dokumentów do oddziału, zalogowanie klienta w systemie. Następnie bank ostanie podejmuje decyzje o udzieleniu kredytu.\n",
    "\n",
    "Dane wejściowe:\n",
    "* **ID** -identyfikator klienta (nieużywany do predykcji)\n",
    "* **Gender**- płeć\n",
    "* **City**- Miasto\n",
    "* **Monthly_Income** - przychód miesięczny\n",
    "* **DOB**- Data urodzenia\n",
    "* **Lead_Creation_Date** - data złożenia formularza\n",
    "* **Loan_Amount_Applied** - żądana kwota pożyczki w rupiach\n",
    "* **Loan_Tenure_Applied** - okres spłaty w latach\n",
    "* **Existing_EMI** - kwota istniejący pożyczek do spłaty\n",
    "* **Employer_Name** - nazwa pracodawcy\n",
    "* **Salary_Account** - nazwa banku konta bankowego\n",
    "* **Mobile_Verified** - weryfikacja telefoniczna\n",
    "* **Var5** - Ciągła zmienna klasyfikowana\n",
    "* **Var1** - Zmienna kategoryczna z wieloma poziomami\n",
    "* **Loan_Amount_Submitted** - Zmieniona kwota pożyczki po weryfikacji\n",
    "* **Loan_Tenure_Submitted** - Zmieniony czas spłaty po weryfikacji\n",
    "* **Interest_Rate** - oprocentowanie pożyczki\n",
    "* **Processing_Fee** - odsetki w rupiach\n",
    "* **EMI_Loan_Submitted** - nowa miesięczna spłata\n",
    "* **Filled_Form** - wypełniony formularz\n",
    "* **Device_Type** - urządzenie, z którego wysłano formularz (Przeglądarka/Telefon)\n",
    "* **Var2** - Zmienna kategoryczna z wieloma poziomami\n",
    "* **Source** - Zmienna kategoryczna z wieloma poziomami\n",
    "* **Var4** - Zmienna kategoryczna z wieloma poziomami\n",
    "\n",
    "Dane wyjściowe\n",
    "* **LoggedIn** - Zalogowanie w aplikacji (zmienna umożliwiająca zrozumienie problemu - nie może być używana w przewidywaniu)\n",
    "* **Disbursed** - wypłata pożyczki (zmienna tłumacząca)"
   ]
  },
  {
   "cell_type": "code",
   "execution_count": 1,
   "metadata": {
    "scrolled": true
   },
   "outputs": [
    {
     "name": "stdout",
     "output_type": "stream",
     "text": [
      "<class 'pandas.core.frame.DataFrame'>\n",
      "RangeIndex: 77020 entries, 0 to 77019\n",
      "Data columns (total 26 columns):\n",
      "ID                       77020 non-null object\n",
      "Gender                   77020 non-null object\n",
      "City                     76114 non-null object\n",
      "Monthly_Income           77020 non-null int64\n",
      "DOB                      77020 non-null object\n",
      "Lead_Creation_Date       77020 non-null object\n",
      "Loan_Amount_Applied      76959 non-null float64\n",
      "Loan_Tenure_Applied      76959 non-null float64\n",
      "Existing_EMI             76959 non-null float64\n",
      "Employer_Name            76959 non-null object\n",
      "Salary_Account           66622 non-null object\n",
      "Mobile_Verified          77020 non-null object\n",
      "Var5                     77020 non-null int64\n",
      "Var1                     77020 non-null object\n",
      "Loan_Amount_Submitted    46372 non-null float64\n",
      "Loan_Tenure_Submitted    46372 non-null float64\n",
      "Interest_Rate            24495 non-null float64\n",
      "Processing_Fee           24226 non-null float64\n",
      "EMI_Loan_Submitted       24495 non-null float64\n",
      "Filled_Form              77020 non-null object\n",
      "Device_Type              77020 non-null object\n",
      "Var2                     77020 non-null object\n",
      "Source                   77020 non-null object\n",
      "Var4                     77020 non-null int64\n",
      "LoggedIn                 77020 non-null int64\n",
      "Disbursed                77020 non-null int64\n",
      "dtypes: float64(8), int64(5), object(13)\n",
      "memory usage: 15.3+ MB\n"
     ]
    }
   ],
   "source": [
    "import pandas as pd\n",
    "import numpy as np\n",
    "\n",
    "# wczytuje dane\n",
    "data = pd.read_csv('HappyCustomerBank.csv')\n",
    "data.info()"
   ]
  },
  {
   "cell_type": "code",
   "execution_count": 2,
   "metadata": {},
   "outputs": [
    {
     "data": {
      "text/html": [
       "<div>\n",
       "<style scoped>\n",
       "    .dataframe tbody tr th:only-of-type {\n",
       "        vertical-align: middle;\n",
       "    }\n",
       "\n",
       "    .dataframe tbody tr th {\n",
       "        vertical-align: top;\n",
       "    }\n",
       "\n",
       "    .dataframe thead th {\n",
       "        text-align: right;\n",
       "    }\n",
       "</style>\n",
       "<table border=\"1\" class=\"dataframe\">\n",
       "  <thead>\n",
       "    <tr style=\"text-align: right;\">\n",
       "      <th></th>\n",
       "      <th>ID</th>\n",
       "      <th>Gender</th>\n",
       "      <th>City</th>\n",
       "      <th>Monthly_Income</th>\n",
       "      <th>DOB</th>\n",
       "      <th>Lead_Creation_Date</th>\n",
       "      <th>Loan_Amount_Applied</th>\n",
       "      <th>Loan_Tenure_Applied</th>\n",
       "      <th>Existing_EMI</th>\n",
       "      <th>Employer_Name</th>\n",
       "      <th>...</th>\n",
       "      <th>Interest_Rate</th>\n",
       "      <th>Processing_Fee</th>\n",
       "      <th>EMI_Loan_Submitted</th>\n",
       "      <th>Filled_Form</th>\n",
       "      <th>Device_Type</th>\n",
       "      <th>Var2</th>\n",
       "      <th>Source</th>\n",
       "      <th>Var4</th>\n",
       "      <th>LoggedIn</th>\n",
       "      <th>Disbursed</th>\n",
       "    </tr>\n",
       "  </thead>\n",
       "  <tbody>\n",
       "    <tr>\n",
       "      <th>0</th>\n",
       "      <td>ID079827H20</td>\n",
       "      <td>Male</td>\n",
       "      <td>Agra</td>\n",
       "      <td>34500</td>\n",
       "      <td>05-Dec-79</td>\n",
       "      <td>02-Jul-15</td>\n",
       "      <td>500000.0</td>\n",
       "      <td>4.0</td>\n",
       "      <td>0.0</td>\n",
       "      <td>AIR TREATMENT ENGINEERING PVT LTD</td>\n",
       "      <td>...</td>\n",
       "      <td>13.99</td>\n",
       "      <td>2500.0</td>\n",
       "      <td>13660.73</td>\n",
       "      <td>Y</td>\n",
       "      <td>Web-browser</td>\n",
       "      <td>G</td>\n",
       "      <td>S122</td>\n",
       "      <td>5</td>\n",
       "      <td>0</td>\n",
       "      <td>0</td>\n",
       "    </tr>\n",
       "    <tr>\n",
       "      <th>1</th>\n",
       "      <td>ID025067D20</td>\n",
       "      <td>Female</td>\n",
       "      <td>Chennai</td>\n",
       "      <td>12000</td>\n",
       "      <td>16-Mar-93</td>\n",
       "      <td>20-May-15</td>\n",
       "      <td>0.0</td>\n",
       "      <td>0.0</td>\n",
       "      <td>0.0</td>\n",
       "      <td>AGS HEALTH PVT LTD</td>\n",
       "      <td>...</td>\n",
       "      <td>NaN</td>\n",
       "      <td>NaN</td>\n",
       "      <td>NaN</td>\n",
       "      <td>N</td>\n",
       "      <td>Mobile</td>\n",
       "      <td>C</td>\n",
       "      <td>S133</td>\n",
       "      <td>1</td>\n",
       "      <td>0</td>\n",
       "      <td>0</td>\n",
       "    </tr>\n",
       "    <tr>\n",
       "      <th>2</th>\n",
       "      <td>ID047181R10</td>\n",
       "      <td>Female</td>\n",
       "      <td>Delhi</td>\n",
       "      <td>47000</td>\n",
       "      <td>10-Oct-57</td>\n",
       "      <td>07-Jun-15</td>\n",
       "      <td>500000.0</td>\n",
       "      <td>5.0</td>\n",
       "      <td>36000.0</td>\n",
       "      <td>GOVERMENT SCHOOL</td>\n",
       "      <td>...</td>\n",
       "      <td>NaN</td>\n",
       "      <td>NaN</td>\n",
       "      <td>NaN</td>\n",
       "      <td>N</td>\n",
       "      <td>Web-browser</td>\n",
       "      <td>B</td>\n",
       "      <td>S133</td>\n",
       "      <td>1</td>\n",
       "      <td>0</td>\n",
       "      <td>0</td>\n",
       "    </tr>\n",
       "    <tr>\n",
       "      <th>3</th>\n",
       "      <td>ID096476Q10</td>\n",
       "      <td>Female</td>\n",
       "      <td>Bhiwani</td>\n",
       "      <td>40000</td>\n",
       "      <td>01-Jun-84</td>\n",
       "      <td>14-Jul-15</td>\n",
       "      <td>1000000.0</td>\n",
       "      <td>5.0</td>\n",
       "      <td>3500.0</td>\n",
       "      <td>JABONG.COM</td>\n",
       "      <td>...</td>\n",
       "      <td>NaN</td>\n",
       "      <td>NaN</td>\n",
       "      <td>NaN</td>\n",
       "      <td>N</td>\n",
       "      <td>Web-browser</td>\n",
       "      <td>G</td>\n",
       "      <td>S122</td>\n",
       "      <td>3</td>\n",
       "      <td>0</td>\n",
       "      <td>0</td>\n",
       "    </tr>\n",
       "    <tr>\n",
       "      <th>4</th>\n",
       "      <td>ID080804W40</td>\n",
       "      <td>Female</td>\n",
       "      <td>Gurgaon</td>\n",
       "      <td>37491</td>\n",
       "      <td>09-Feb-84</td>\n",
       "      <td>03-Jul-15</td>\n",
       "      <td>0.0</td>\n",
       "      <td>0.0</td>\n",
       "      <td>0.0</td>\n",
       "      <td>APCO INFRA TECH LTD</td>\n",
       "      <td>...</td>\n",
       "      <td>NaN</td>\n",
       "      <td>NaN</td>\n",
       "      <td>NaN</td>\n",
       "      <td>N</td>\n",
       "      <td>Mobile</td>\n",
       "      <td>G</td>\n",
       "      <td>S122</td>\n",
       "      <td>3</td>\n",
       "      <td>0</td>\n",
       "      <td>0</td>\n",
       "    </tr>\n",
       "  </tbody>\n",
       "</table>\n",
       "<p>5 rows × 26 columns</p>\n",
       "</div>"
      ],
      "text/plain": [
       "            ID  Gender     City  Monthly_Income        DOB Lead_Creation_Date  \\\n",
       "0  ID079827H20    Male     Agra           34500  05-Dec-79          02-Jul-15   \n",
       "1  ID025067D20  Female  Chennai           12000  16-Mar-93          20-May-15   \n",
       "2  ID047181R10  Female    Delhi           47000  10-Oct-57          07-Jun-15   \n",
       "3  ID096476Q10  Female  Bhiwani           40000  01-Jun-84          14-Jul-15   \n",
       "4  ID080804W40  Female  Gurgaon           37491  09-Feb-84          03-Jul-15   \n",
       "\n",
       "   Loan_Amount_Applied  Loan_Tenure_Applied  Existing_EMI  \\\n",
       "0             500000.0                  4.0           0.0   \n",
       "1                  0.0                  0.0           0.0   \n",
       "2             500000.0                  5.0       36000.0   \n",
       "3            1000000.0                  5.0        3500.0   \n",
       "4                  0.0                  0.0           0.0   \n",
       "\n",
       "                       Employer_Name  ... Interest_Rate Processing_Fee  \\\n",
       "0  AIR TREATMENT ENGINEERING PVT LTD  ...         13.99         2500.0   \n",
       "1                 AGS HEALTH PVT LTD  ...           NaN            NaN   \n",
       "2                   GOVERMENT SCHOOL  ...           NaN            NaN   \n",
       "3                         JABONG.COM  ...           NaN            NaN   \n",
       "4                APCO INFRA TECH LTD  ...           NaN            NaN   \n",
       "\n",
       "   EMI_Loan_Submitted Filled_Form  Device_Type  Var2  Source  Var4  LoggedIn  \\\n",
       "0            13660.73           Y  Web-browser     G    S122     5         0   \n",
       "1                 NaN           N       Mobile     C    S133     1         0   \n",
       "2                 NaN           N  Web-browser     B    S133     1         0   \n",
       "3                 NaN           N  Web-browser     G    S122     3         0   \n",
       "4                 NaN           N       Mobile     G    S122     3         0   \n",
       "\n",
       "  Disbursed  \n",
       "0         0  \n",
       "1         0  \n",
       "2         0  \n",
       "3         0  \n",
       "4         0  \n",
       "\n",
       "[5 rows x 26 columns]"
      ]
     },
     "execution_count": 2,
     "metadata": {},
     "output_type": "execute_result"
    }
   ],
   "source": [
    "# wycinek danych\n",
    "data.head()"
   ]
  },
  {
   "cell_type": "code",
   "execution_count": 6,
   "metadata": {},
   "outputs": [
    {
     "data": {
      "image/png": "[encoded data removed]",
      "text/plain": [
       "<Figure size 432x288 with 1 Axes>"
      ]
     },
     "metadata": {
      "needs_background": "light"
     },
     "output_type": "display_data"
    },
    {
     "data": {
      "image/png": "[encoded data removed]",
      "text/plain": [
       "<Figure size 432x288 with 1 Axes>"
      ]
     },
     "metadata": {
      "needs_background": "light"
     },
     "output_type": "display_data"
    },
    {
     "data": {
      "image/png": "[encoded data removed]",
      "text/plain": [
       "<Figure size 432x288 with 1 Axes>"
      ]
     },
     "metadata": {
      "needs_background": "light"
     },
     "output_type": "display_data"
    },
    {
     "data": {
      "image/png": "[encoded data removed]",
      "text/plain": [
       "<Figure size 432x288 with 1 Axes>"
      ]
     },
     "metadata": {
      "needs_background": "light"
     },
     "output_type": "display_data"
    },
    {
     "data": {
      "image/png": "[encoded data removed]",
      "text/plain": [
       "<Figure size 432x288 with 1 Axes>"
      ]
     },
     "metadata": {
      "needs_background": "light"
     },
     "output_type": "display_data"
    },
    {
     "data": {
      "image/png": "[encoded data removed]",
      "text/plain": [
       "<Figure size 432x288 with 1 Axes>"
      ]
     },
     "metadata": {
      "needs_background": "light"
     },
     "output_type": "display_data"
    },
    {
     "data": {
      "image/png": "[encoded data removed]",
      "text/plain": [
       "<Figure size 432x288 with 1 Axes>"
      ]
     },
     "metadata": {
      "needs_background": "light"
     },
     "output_type": "display_data"
    },
    {
     "data": {
      "image/png": "[encoded data removed]",
      "text/plain": [
       "<Figure size 432x288 with 1 Axes>"
      ]
     },
     "metadata": {
      "needs_background": "light"
     },
     "output_type": "display_data"
    },
    {
     "data": {
      "image/png": "[encoded data removed]",
      "text/plain": [
       "<Figure size 432x288 with 1 Axes>"
      ]
     },
     "metadata": {
      "needs_background": "light"
     },
     "output_type": "display_data"
    },
    {
     "data": {
      "image/png": "[encoded data removed]",
      "text/plain": [
       "<Figure size 432x288 with 1 Axes>"
      ]
     },
     "metadata": {
      "needs_background": "light"
     },
     "output_type": "display_data"
    },
    {
     "data": {
      "image/png": "[encoded data removed]",
      "text/plain": [
       "<Figure size 432x288 with 1 Axes>"
      ]
     },
     "metadata": {
      "needs_background": "light"
     },
     "output_type": "display_data"
    },
    {
     "data": {
      "image/png": "[encoded data removed]",
      "text/plain": [
       "<Figure size 432x288 with 1 Axes>"
      ]
     },
     "metadata": {
      "needs_background": "light"
     },
     "output_type": "display_data"
    },
    {
     "data": {
      "image/png": "[encoded data removed]",
      "text/plain": [
       "<Figure size 432x288 with 1 Axes>"
      ]
     },
     "metadata": {
      "needs_background": "light"
     },
     "output_type": "display_data"
    }
   ],
   "source": [
    "import pylab as plt\n",
    "\n",
    "# histogramy zmiennych, pogrupowanych względem z zmiennej `Disbursed` \n",
    "\n",
    "column_names = data.select_dtypes(exclude=['object']).columns\n",
    "for column in column_names:\n",
    "    fig, axs = plt.subplots(ncols=1)\n",
    "    logscale = False\n",
    "    if column in ['Monthly_Income', 'Existing_EMI']:\n",
    "        logscale = True\n",
    "    data.groupby(\"Disbursed\")[column].hist(alpha=0.2, ax=axs, density=True, label=column,\n",
    "                                           log=logscale)\n",
    "    axs.title.set_text(column)"
   ]
  },
  {
   "cell_type": "code",
   "execution_count": 7,
   "metadata": {},
   "outputs": [
    {
     "data": {
      "text/html": [
       "<div>\n",
       "<style scoped>\n",
       "    .dataframe tbody tr th:only-of-type {\n",
       "        vertical-align: middle;\n",
       "    }\n",
       "\n",
       "    .dataframe tbody tr th {\n",
       "        vertical-align: top;\n",
       "    }\n",
       "\n",
       "    .dataframe thead th {\n",
       "        text-align: right;\n",
       "    }\n",
       "</style>\n",
       "<table border=\"1\" class=\"dataframe\">\n",
       "  <thead>\n",
       "    <tr style=\"text-align: right;\">\n",
       "      <th></th>\n",
       "      <th>Monthly_Income</th>\n",
       "      <th>Loan_Amount_Applied</th>\n",
       "      <th>Loan_Tenure_Applied</th>\n",
       "      <th>Existing_EMI</th>\n",
       "      <th>Var5</th>\n",
       "      <th>Loan_Amount_Submitted</th>\n",
       "      <th>Loan_Tenure_Submitted</th>\n",
       "      <th>Interest_Rate</th>\n",
       "      <th>Processing_Fee</th>\n",
       "      <th>EMI_Loan_Submitted</th>\n",
       "      <th>Var4</th>\n",
       "      <th>LoggedIn</th>\n",
       "    </tr>\n",
       "    <tr>\n",
       "      <th>Disbursed</th>\n",
       "      <th></th>\n",
       "      <th></th>\n",
       "      <th></th>\n",
       "      <th></th>\n",
       "      <th></th>\n",
       "      <th></th>\n",
       "      <th></th>\n",
       "      <th></th>\n",
       "      <th></th>\n",
       "      <th></th>\n",
       "      <th></th>\n",
       "      <th></th>\n",
       "    </tr>\n",
       "  </thead>\n",
       "  <tbody>\n",
       "    <tr>\n",
       "      <th>0</th>\n",
       "      <td>25000</td>\n",
       "      <td>100000.0</td>\n",
       "      <td>2.0</td>\n",
       "      <td>0.0</td>\n",
       "      <td>2</td>\n",
       "      <td>300000.0</td>\n",
       "      <td>4.0</td>\n",
       "      <td>18.00</td>\n",
       "      <td>3900.0</td>\n",
       "      <td>9333.70</td>\n",
       "      <td>3</td>\n",
       "      <td>0</td>\n",
       "    </tr>\n",
       "    <tr>\n",
       "      <th>1</th>\n",
       "      <td>49000</td>\n",
       "      <td>250000.0</td>\n",
       "      <td>3.0</td>\n",
       "      <td>0.0</td>\n",
       "      <td>12</td>\n",
       "      <td>400000.0</td>\n",
       "      <td>4.0</td>\n",
       "      <td>14.85</td>\n",
       "      <td>4000.0</td>\n",
       "      <td>11183.06</td>\n",
       "      <td>3</td>\n",
       "      <td>1</td>\n",
       "    </tr>\n",
       "  </tbody>\n",
       "</table>\n",
       "</div>"
      ],
      "text/plain": [
       "           Monthly_Income  Loan_Amount_Applied  Loan_Tenure_Applied  \\\n",
       "Disbursed                                                             \n",
       "0                   25000             100000.0                  2.0   \n",
       "1                   49000             250000.0                  3.0   \n",
       "\n",
       "           Existing_EMI  Var5  Loan_Amount_Submitted  Loan_Tenure_Submitted  \\\n",
       "Disbursed                                                                     \n",
       "0                   0.0     2               300000.0                    4.0   \n",
       "1                   0.0    12               400000.0                    4.0   \n",
       "\n",
       "           Interest_Rate  Processing_Fee  EMI_Loan_Submitted  Var4  LoggedIn  \n",
       "Disbursed                                                                     \n",
       "0                  18.00          3900.0             9333.70     3         0  \n",
       "1                  14.85          4000.0            11183.06     3         1  "
      ]
     },
     "execution_count": 7,
     "metadata": {},
     "output_type": "execute_result"
    }
   ],
   "source": [
    "data.groupby(\"Disbursed\").median()"
   ]
  },
  {
   "cell_type": "markdown",
   "metadata": {},
   "source": [
    "Analiza danych\n",
    "=======\n",
    "Z wartości środkowych ciężko jest wysnuć jakieś ciekawe spostrzeżenia, na pewno osoby mające większy dochód miesięczny mają większy szanse na otrzymanie kredytu.\n",
    "\n",
    "Powyżej przedstawiam także rozkłady zmiennych liczbowych, pogrupowanych względem danej wyjściowej.\n",
    "Niebieskie rozkłady przyporządkowane są klientom, którym odmówiono udzielenie kredytu. Rozkłady zmiennej `Var5` różnią się znacząco, niestety nie jest dokładnie powiedziane, co przedstawia ta zmienna.\n",
    "\n"
   ]
  },
  {
   "cell_type": "markdown",
   "metadata": {},
   "source": [
    "Przetwarzanie danych\n",
    "=============\n",
    "Posiadamy dane 77020 klientów, z czego 1,4% z nich otrzymało pożyczkę.\n",
    "Mamy do czynienia z niezbalansowaną licznością klas. Dodatkowo kilka zmiennych ma braki danych w ponad 40%.\n",
    "Zmienne liczbowe z małymi brakami zostaną dopełnione wartością środkową. Natomiast\n",
    "zmienne liczbowe z dużymi brakami:\n",
    "`Loan_Amount_Submitted`,\n",
    "`Loan_Tenure_Submitted`,\n",
    "`Interest_Rate`,\n",
    "`Processing_Fee`,\n",
    "`EMI_Loan_Submitted`. Przekształcimy na zmienne kategoryczne: zwierające brak danych oraz przynależność do przedziału liczbowego.\n",
    "\n",
    "Dane o miastach zostaną zastąpione populacją danego miasta, braki danych zostaną zastąpione populacją średniego miasta w Indiach. Zmienne przechowujące daty zostaną zmienione na dane liczbowe w latach.\n",
    "zmienne posiadające dwie kategorie (`Gender`, `Device_Type`,`Mobile_Verified`,`Filled_Form`) zostaną zakodowane na 0,1. Dane o nazwie banku konta bankowego i nazwie pracodawcy zostaną pominięte.\n"
   ]
  },
  {
   "cell_type": "markdown",
   "metadata": {},
   "source": [
    "Dodawanie nowych zmiennych\n",
    "-------------------\n",
    "Klasa `NewFeatures` dodaje zmienne\n",
    "* `Lead_Creation_Client_Age` - Na podstawie daty urodzenia i daty złożenia wniosku tworzę zmienną liczbową. Oznaczająca wiek klienta składającego wniosek w latach.\n",
    "* `Loan_Eqeuality` - Zmienna bool ma wartość `True` jeżeli proponowana kwota kredytu jest równa kwocie kredytu wnioskowanej przez klienta.\n",
    "\n",
    "Dla zmiennych typu object o wielu kategoriach `Var1`,`Var2`,`Source` mało popularne wartości zmienia na `other`.\n",
    "\n",
    "Zmienne liczbowe\n",
    "`Loan_Amount_Submitted`,\n",
    "`Loan_Tenure_Submitted`,\n",
    "`Interest_Rate`,\n",
    "`Processing_Fee`,\n",
    "`EMI_Loan_Submitted` przekształcamy na zmienne kategoryczne. Konkretną liczbę kodujemy na odpowiedni kwartyl `Q1`,`Q2`,`Q3`,`Q4` lub  wartość `M` oznaczającą brak danych. \n"
   ]
  },
  {
   "cell_type": "code",
   "execution_count": 3,
   "metadata": {},
   "outputs": [],
   "source": [
    "from sklearn.base import BaseEstimator, TransformerMixin\n",
    "from sklearn.compose import ColumnTransformer, make_column_transformer\n",
    "from sklearn.pipeline import Pipeline, make_pipeline\n",
    "from sklearn.preprocessing import FunctionTransformer\n",
    "from sklearn.model_selection import train_test_split\n",
    "from sklearn.impute import SimpleImputer\n",
    "from sklearn.preprocessing import StandardScaler, OneHotEncoder\n",
    "\n",
    "from sklearn.model_selection import train_test_split\n",
    "\n",
    "import numpy as np\n",
    "import datetime\n",
    "import json\n",
    "\n",
    "\n",
    "# features engering\n",
    "class NewFeatures(BaseEstimator, TransformerMixin):\n",
    "    \"\"\"\n",
    "    Class crete new features, drop useless column, encodes features.\n",
    "    \"\"\"\n",
    "\n",
    "    def __init__(self, date_format=\"%d-%b-%y\"):\n",
    "        self.date_format = date_format\n",
    "        self.DATE = datetime.datetime(2040, 1, 1)\n",
    "        self.threshold = 0.1  # próg odrzucenia wartości zmiennych katygorycznych z małym prawdopodobieństwem\n",
    "        super().__init__()\n",
    "\n",
    "    def transform(self, X):\n",
    "        def date2float(date_str):\n",
    "            \"\"\"\n",
    "            diff from *date_str* to 2040.01.01 in years.\n",
    "            \"\"\"\n",
    "            _date = datetime.datetime.strptime(date_str, self.date_format)\n",
    "            if _date.year > self.DATE.year:\n",
    "                _date = _date.replace(year=_date.year - 100)\n",
    "            return (self.DATE - _date).days / 365.0\n",
    "\n",
    "        vdate2float = np.vectorize(date2float)\n",
    "        # dodaje nową zmieną 'Lead_Creation_Client_Age' wiek kilenta ubiegającego się o kredyt w (latach)\n",
    "        X['Lead_Creation_Client_Age'] = vdate2float(X['DOB']) - vdate2float(X['Lead_Creation_Date'])\n",
    "\n",
    "        # dodaje nową zmieną 'Loan_Eqeuality' oznaczającą klientowi zaproponowano\n",
    "        # kwote, o którą się ubiegał\n",
    "        X['Loan_Eqeuality'] = data['Loan_Amount_Submitted'] == data['Loan_Amount_Applied']\n",
    "\n",
    "        # wyrzucam niepotzrbne dane\n",
    "        X.drop(['DOB', 'Lead_Creation_Date', 'ID', 'LoggedIn', 'Disbursed', 'Employer_Name',\n",
    "                'Salary_Account'],\n",
    "               axis=1, inplace=True)\n",
    "        self.columns = X.columns.tolist()\n",
    "\n",
    "        return X\n",
    "\n",
    "    def fit(self, X, y=None):\n",
    "        # wartości katygoryczne dla zmiennych 'Var1','Var2','Source', których czestość jest mniejsz niż 10%\n",
    "        # zostają zakodowane jako 'other', ma to na celu finalnie zmniejszenie liczy zmiennych\n",
    "        for feature in ['Var1', 'Var2', 'Source']:\n",
    "            value_counts = X[feature].value_counts(normalize=True)  # Specific column \n",
    "            to_remove = value_counts[value_counts <= self.threshold].index\n",
    "            X[feature].replace(to_remove, 'other', inplace=True)\n",
    "\n",
    "        # Koduje zmnienne liczboiwe do 5 koszyków, przynależność do jednego z qwartylów lub bark danych\n",
    "        self.quantilies = X.quantile([0.25, 0.5, 0.75])\n",
    "        for feature in ['Loan_Amount_Submitted', 'Loan_Tenure_Submitted', 'Interest_Rate',\n",
    "                        'Processing_Fee', 'EMI_Loan_Submitted', ]:\n",
    "            def quantile_code(x):\n",
    "                if np.isnan(x):\n",
    "                    return 'M'\n",
    "                if x <= self.quantilies[feature].iloc[0]:\n",
    "                    return 'Q1'\n",
    "                if x <= self.quantilies[feature].iloc[1]:\n",
    "                    return 'Q2'\n",
    "                if x <= self.quantilies[feature].iloc[2]:\n",
    "                    return 'Q3'\n",
    "                else:\n",
    "                    return 'Q4'\n",
    "\n",
    "            vquantile_code = np.vectorize(quantile_code)\n",
    "            X[feature] = vquantile_code(X[feature])\n",
    "        return self\n",
    "\n",
    "    def get_feature_names(self):\n",
    "        return self.columns\n",
    "\n",
    "\n",
    "all_features = data.columns.tolist()\n",
    "features_engineering_transformer = NewFeatures()\n",
    "features_engineering = make_column_transformer(\n",
    "    (features_engineering_transformer, all_features), )\n"
   ]
  },
  {
   "cell_type": "markdown",
   "metadata": {},
   "source": [
    "Klasa `CityInfoTransformer` wczytuje zewnętrzny plik \"city_pop.json\" z informacją o populacji\n",
    "w Indyjskich miastach. Następnie zamienia nazwę miasta na ludność w danym mieście. Brak danych lub brak informacji zastępowana jest populacją średniego miasta w Indiach."
   ]
  },
  {
   "cell_type": "code",
   "execution_count": 4,
   "metadata": {},
   "outputs": [],
   "source": [
    "class CityInfoTransformer(BaseEstimator, TransformerMixin):\n",
    "    \"\"\"\n",
    "    Trasform City name in city population\n",
    "    \"\"\"\n",
    "\n",
    "    def __init__(self, json_path=\"city_pop.json\"):\n",
    "        self.json_path = json_path\n",
    "        super().__init__()\n",
    "        with open(self.json_path) as json_file:\n",
    "            self.city_dict = json.load(json_file)\n",
    "\n",
    "    def transform(self, X):\n",
    "        def get_info(city_name):\n",
    "            city_info = self.city_dict.get(city_name)\n",
    "            if city_info is None:\n",
    "                city_info = self.city_dict.get('Mean_city')\n",
    "            return city_info['population']\n",
    "\n",
    "        vget_info = np.vectorize(get_info)\n",
    "        return vget_info(X)\n",
    "\n",
    "    def fit(self, X, y=None):\n",
    "        self.columns = X.columns.tolist()\n",
    "        return self\n",
    "    \n",
    "    def get_feature_names(self):\n",
    "        return self.columns"
   ]
  },
  {
   "cell_type": "markdown",
   "metadata": {},
   "source": [
    "Klasa `CategoricalBinaryTransformer` koduje zmienne kategoryczne dwu wartościowe na 0,1.\n",
    "Gdzie 1 jest przyporządkowane wartości dla w pierwszym wierszu danych treningowych."
   ]
  },
  {
   "cell_type": "code",
   "execution_count": 5,
   "metadata": {},
   "outputs": [],
   "source": [
    "class CategoricalBinaryTransformer(BaseEstimator, TransformerMixin):\n",
    "    \"\"\"\n",
    "    Code categorical binary values on 0,1\n",
    "    \"\"\"\n",
    "\n",
    "    def __init__(self):\n",
    "        super().__init__()\n",
    "        self.code_one = None\n",
    "\n",
    "    def transform(self, X):\n",
    "        for feature in X:\n",
    "            X[feature] = X[feature] == self.code_one[feature].iloc[0]\n",
    "        return X\n",
    "\n",
    "    def fit(self, X, y=None):\n",
    "        self.code_one = X.head(1)\n",
    "        self.columns = X.columns.tolist()\n",
    "        return self\n",
    "    \n",
    "    def get_feature_names(self):\n",
    "        return self.columns"
   ]
  },
  {
   "cell_type": "markdown",
   "metadata": {},
   "source": [
    "Tworze dwa transformatory `binary_features`,`city_features`, które dodaje do transformatora kolumn  `preprocessor`.\n",
    "`preprocessor` dodatkowo wypełnia brakujące wartości zmiennych liczbowych mediana oraz koduje zmienne kategoryczne \n",
    "klasą `OneHotEncoder`."
   ]
  },
  {
   "cell_type": "code",
   "execution_count": 22,
   "metadata": {},
   "outputs": [],
   "source": [
    "vcity_features = ['City']\n",
    "city_transformer = make_pipeline(CityInfoTransformer(), StandardScaler())\n",
    "\n",
    "binary_features = ['Gender', 'Device_Type', 'Mobile_Verified', 'Filled_Form']\n",
    "binary_transformer = CategoricalBinaryTransformer()\n",
    "\n",
    "numerical_features = ['Monthly_Income', 'Loan_Amount_Applied', 'Loan_Tenure_Applied',\n",
    "                      'Existing_EMI', 'Var5', 'Var4', 'Lead_Creation_Client_Age',\n",
    "                      'Loan_Eqeuality']\n",
    "\n",
    "categorical_features = ['Loan_Amount_Submitted',\n",
    "                        'Loan_Tenure_Submitted', 'Interest_Rate', 'Processing_Fee',\n",
    "                        'EMI_Loan_Submitted', 'Var2', 'Source', 'Var1']\n",
    "\n",
    "numerical_transformer = make_pipeline(SimpleImputer(strategy='median'), StandardScaler())\n",
    "\n",
    "categorical_transformer = Pipeline(steps=[\n",
    "    ('imputer', SimpleImputer(strategy='constant', fill_value='missing')),\n",
    "    ('onehot', OneHotEncoder(handle_unknown='ignore')),\n",
    "]\n",
    ")\n",
    "\n",
    "preprocessor = ColumnTransformer(\n",
    "    transformers=[\n",
    "        ('bim', binary_transformer, binary_features),\n",
    "        ('city', city_transformer, city_features),\n",
    "        ('num', numerical_transformer, numerical_features),\n",
    "        ('cat', categorical_transformer, categorical_features)])\n"
   ]
  },
  {
   "cell_type": "markdown",
   "metadata": {},
   "source": [
    "Klasa `ColumnTrnsformer` zwraca tablice beznazw zmiennych, aby zachować nazwy kolumn niezbędne do `OneHotEncoder`, używam dodatkowego kroku w pipe line, który przepisuje nazwy zmiennych pomiędzy krokami. Klasa `RecreteDF` zwraca DataFrame z odpowiednimi nazwami kolumn."
   ]
  },
  {
   "cell_type": "code",
   "execution_count": 40,
   "metadata": {},
   "outputs": [],
   "source": [
    "class RecreteDF(BaseEstimator, TransformerMixin):\n",
    "    '''\n",
    "    Class recrete column names\n",
    "    '''\n",
    "\n",
    "    def __init__(self):\n",
    "        super().__init__()\n",
    "        self.after_newfeatures_column_names = ['Gender', 'City', 'Monthly_Income',\n",
    "                                               'Loan_Amount_Applied', 'Loan_Tenure_Applied',\n",
    "                                               'Existing_EMI', 'Mobile_Verified', 'Var5', 'Var1',\n",
    "                                               'Loan_Amount_Submitted', 'Loan_Tenure_Submitted',\n",
    "                                               'Interest_Rate', 'Processing_Fee',\n",
    "                                               'EMI_Loan_Submitted', 'Filled_Form', 'Device_Type',\n",
    "                                               'Var2', 'Source', 'Var4', 'Lead_Creation_Client_Age',\n",
    "                                               'Loan_Eqeuality']\n",
    "        self.all_columns_names = ['Gender', 'Device_Type', 'Mobile_Verified', 'Filled_Form', 'City',\n",
    "                                  'Monthly_Income', 'Loan_Amount_Applied', 'Loan_Tenure_Applied',\n",
    "                                  'Existing_EMI', 'Var5', 'Var4', 'Lead_Creation_Client_Age',\n",
    "                                  'Loan_Eqeuality', 'Loan_Amount_Submitted_M',\n",
    "                                  'Loan_Amount_Submitted_Q1',\n",
    "                                  'Loan_Amount_Submitted_Q2', 'Loan_Amount_Submitted_Q3',\n",
    "                                  'Loan_Amount_Submitted_Q4', 'Loan_Tenure_Submitted_M',\n",
    "                                  'Loan_Tenure_Submitted_Q1', 'Loan_Tenure_Submitted_Q2',\n",
    "                                  'Loan_Tenure_Submitted_Q3', 'Loan_Tenure_Submitted_Q4',\n",
    "                                  'Interest_Rate_M', 'Interest_Rate_Q1', 'Interest_Rate_Q2',\n",
    "                                  'Interest_Rate_Q3', 'Interest_Rate_Q4', 'Processing_Fee_M',\n",
    "                                  'Processing_Fee_Q1', 'Processing_Fee_Q2', 'Processing_Fee_Q3',\n",
    "                                  'Processing_Fee_Q4', 'EMI_Loan_Submitted_M',\n",
    "                                  'EMI_Loan_Submitted_Q1', 'EMI_Loan_Submitted_Q2',\n",
    "                                  'EMI_Loan_Submitted_Q3', 'EMI_Loan_Submitted_Q4', 'Var2_B',\n",
    "                                  'Var2_C', 'Var2_G', 'Var2_other', 'Source_S122', 'Source_S133',\n",
    "                                  'Source_other', 'Var1_HBXC', 'Var1_HBXX', 'Var1_other']\n",
    "\n",
    "    def transform(self, X):\n",
    "        return pd.DataFrame(data=X, index=np.arange(len(X)),\n",
    "                            columns=self.after_newfeatures_column_names)\n",
    "\n",
    "    def fit(self, X, y=None):\n",
    "        return self\n"
   ]
  },
  {
   "cell_type": "code",
   "execution_count": 32,
   "metadata": {},
   "outputs": [],
   "source": [
    "preprocessor_pipe = Pipeline(steps=[('features_engineering',features_engineering),\n",
    "                       ('recreate', RecreteDF()),                                    \n",
    "                       ('preprocessor', preprocessor),                                    \n",
    "                      ])\n",
    "# preprocessor_pipe.fit(data)"
   ]
  },
  {
   "cell_type": "markdown",
   "metadata": {},
   "source": [
    "Dziele próbkę na część testową i treningową. Ze względu na niebalansowane klasy używam atrybutu `stratify`, aby rozkład zmiennej `Disbursed` dla dwóch próbek był podobny."
   ]
  },
  {
   "cell_type": "code",
   "execution_count": 27,
   "metadata": {},
   "outputs": [],
   "source": [
    "X_train, X_test, y_train, y_test = train_test_split(data, data[\"Disbursed\"],\n",
    "                                                    stratify=data[\"Disbursed\"], test_size=0.2)"
   ]
  },
  {
   "cell_type": "markdown",
   "metadata": {},
   "source": [
    "Jednym ze sposobów na problem niezbalansowanych klas, jest zmiana progu klasyfikacji estymatorów.\n",
    "`ThresholdEstimator` jest wrapperem do Estymatorów, gdzie atrybut `threshold` oznacza próg klasyfikacji.\n",
    "Do klasy dodałem nazwy atrybutów, z których będę korzystał przy optymalizacji parametrów klasyfikatora.\n",
    "Taka budowa pozwala przekazać wartość prametrów w `GridSearchCV`."
   ]
  },
  {
   "cell_type": "code",
   "execution_count": 79,
   "metadata": {},
   "outputs": [],
   "source": [
    "def ThresholdEstimator(estimator_class):\n",
    "    \n",
    "    class ThresholdEstimatorClass(estimator_class):\n",
    "        def __init__(self,threshold=0.5,penalty=None, min_samples_leaf=None, class_weight=None, **kwargs):\n",
    "            self.threshold = threshold\n",
    "#             self.penalty = penalty\n",
    "#             self.min_samples_leaf = min_samples_leaf\n",
    "#             self.class_weight = class_weight\n",
    "            super().__init__(**kwargs) \n",
    "\n",
    "        def predict(self,data):\n",
    "            p_probability = super().predict_proba(data)\n",
    "            return(p_probability[:,1]>self.threshold).astype(int)\n",
    "        \n",
    "    return ThresholdEstimatorClass"
   ]
  },
  {
   "cell_type": "markdown",
   "metadata": {},
   "source": [
    "Testuje modele: `DecisionTreeClassifier`, `LogisticRegression`, `RandomForestClassifier`. Klasa `GridSearchCV` wybierze najlepsze prametry modeli, względem metryki f1(średnia harmoniczna czułości i precyzji). Będe optymalizował wagi klass, próg predykcji, oraz minimalną próbe w liściu dla algorytmów drzewiastych.  "
   ]
  },
  {
   "cell_type": "code",
   "execution_count": 42,
   "metadata": {
    "scrolled": true
   },
   "outputs": [
    {
     "name": "stdout",
     "output_type": "stream",
     "text": [
      "[('Monthly_Income', 0.5), ('Lead_Creation_Client_Age', 0.14), ('City', 0.07), ('Var5', 0.05), ('Var4', 0.04), ('Existing_EMI', 0.04), ('Loan_Amount_Applied', 0.03), ('Loan_Tenure_Applied', 0.02), ('Interest_Rate_Q2', 0.01), ('Interest_Rate_Q1', 0.01)]\n",
      "{'classifier__class_weight': {0: 0.01, 1: 0.99}, 'classifier__min_samples_leaf': 30, 'classifier__threshold': 0.95}\n",
      "model score(F1): 0.054\n",
      "[('Monthly_Income', 0.3), ('Var5', 0.12), ('Lead_Creation_Client_Age', 0.08), ('Existing_EMI', 0.07), ('City', 0.05), ('Loan_Amount_Submitted_M', 0.05), ('Var4', 0.04), ('Loan_Amount_Applied', 0.03), ('Interest_Rate_Q1', 0.03), ('Loan_Tenure_Applied', 0.02)]\n",
      "{'classifier__class_weight': 'balanced', 'classifier__min_samples_leaf': 30}\n",
      "model score(F1): 0.085\n",
      "[('Existing_EMI', 2.19), ('Mobile_Verified', -1.07), ('Loan_Amount_Submitted_Q4', 0.81), ('Var5', 0.78), ('Interest_Rate_Q1', 0.59), ('Interest_Rate_Q4', -0.58), ('Var2_C', 0.57), ('Loan_Amount_Submitted_M', -0.51), ('Monthly_Income', -0.46), ('Source_other', -0.4)]\n",
      "{'classifier__class_weight': {0: 0.01, 1: 0.99}, 'classifier__penalty': 'l1', 'classifier__threshold': 0.75}\n",
      "model score(F1): 0.102\n"
     ]
    }
   ],
   "source": [
    "import warnings\n",
    "\n",
    "warnings.simplefilter(action='ignore', category=FutureWarning)\n",
    "\n",
    "from sklearn.tree import DecisionTreeClassifier\n",
    "from sklearn.ensemble import RandomForestClassifier\n",
    "from sklearn.linear_model import LogisticRegression\n",
    "from sklearn.model_selection import GridSearchCV\n",
    "\n",
    "from sklearn.metrics import f1_score, precision_score, recall_score\n",
    "from sklearn.metrics import confusion_matrix\n",
    "from sklearn.metrics import make_scorer\n",
    "\n",
    "_class_weight = [{0: 0.01, 1: 0.99}, {0: 0.05, 1: 0.95}, 'balanced']\n",
    "_threshold = [0.5, 0.75, 0.95]\n",
    "classifiers = [\n",
    "    (ThresholdEstimator(DecisionTreeClassifier)(), {'classifier__min_samples_leaf': [30, 50, 70],\n",
    "                                                    'classifier__class_weight': _class_weight,\n",
    "                                                    'classifier__threshold': _threshold}),\n",
    "    (RandomForestClassifier(), {'classifier__min_samples_leaf': [30, 50, 70],\n",
    "                                'classifier__class_weight': _class_weight}),\n",
    "    (ThresholdEstimator(LogisticRegression)(), {'classifier__penalty': ['l1'],\n",
    "                                                'classifier__class_weight': _class_weight,\n",
    "                                                'classifier__threshold': _threshold}),\n",
    "]\n",
    "\n",
    "for classifier, param_grid in classifiers:\n",
    "    pipe = Pipeline(steps=[('preprocessor_pipe', preprocessor_pipe),\n",
    "                           ('classifier', classifier)])\n",
    "    gs = GridSearchCV(pipe, param_grid, cv=3, scoring='f1', n_jobs=2)\n",
    "\n",
    "    gs.fit(X_train, y_train)\n",
    "    y_pred = gs.predict(X_test)\n",
    "\n",
    "    column_names = RecreteDF().all_columns_names\n",
    "    try:\n",
    "        values = gs.best_estimator_['classifier'].feature_importances_\n",
    "    except AttributeError:\n",
    "        values = gs.best_estimator_['classifier'].coef_[0]\n",
    "    importances = dict(zip(column_names, values))\n",
    "    important_features = sorted(importances.items(), key=lambda x: abs(x[1]), reverse=True)[:10]\n",
    "    print([(feature[0], round(feature[1], 2)) for feature in important_features])\n",
    "    print(gs.best_params_)\n",
    "    print(\"model score(F1): %.3f\" % gs.score(X_test, y_test))\n"
   ]
  },
  {
   "cell_type": "markdown",
   "metadata": {},
   "source": [
    "|  Model |  F1 |\n",
    "|:-:|:-:|\n",
    "| Drzewo decyzyjne  | 0.054  |\n",
    "|  Las losowy | 0.085  |\n",
    "| Regresja logistyczna  | 0.102  |\n",
    "\n",
    "Spośród testowanych parametrów, najlepszym modelem okazała się Regresja Logistyczna.\n",
    "Dla algorytmów drzewiastych najważniejsze zmienne to: Przychód miesięczny, wiek klienta, miasto, istniejące zobowiązania oraz zmienna Var5.\n",
    "\n",
    "Dla regresji liniowej największy wpływ na model miały zmienne: Istniejące zobowiązania, Weryfikacja telefoniczna, Duża kwota zaproponowanej pożyczki, zmienna Var5, wielkość oprocentowania pożyczki, brak zaproponowanej kwoty kredytu."
   ]
  },
  {
   "cell_type": "markdown",
   "metadata": {},
   "source": [
    "Selekcja zmiennych\n",
    "===================\n",
    "W kolejnym etapie przeprowadzimy selekcje zmiennych, aby skrócić czas obliczeń, co pozwoli nam uruchomić model liniowy na większej siatce parametrów. Po przetwarzaniu danych otrzymaliśmy 48 zmiennych, wiele z nich ma mały wpływ na model."
   ]
  },
  {
   "cell_type": "code",
   "execution_count": 90,
   "metadata": {},
   "outputs": [
    {
     "name": "stdout",
     "output_type": "stream",
     "text": [
      "[('Loan_Tenure_Applied', 2.19), ('Device_Type', -1.06), ('Loan_Amount_Submitted_Q1', 0.8), ('Existing_EMI', 0.78), ('Loan_Amount_Submitted_Q2', -0.73), ('Loan_Tenure_Submitted_Q3', -0.59), ('Loan_Tenure_Submitted_M', 0.58), ('Interest_Rate_Q2', 0.57), ('City', -0.46), ('Processing_Fee_M', -0.4), ('Mobile_Verified', 0.37), ('Loan_Amount_Submitted_Q4', 0.27), ('Interest_Rate_Q4', 0.27), ('Loan_Amount_Applied', 0.26), ('Monthly_Income', -0.25), ('Loan_Amount_Submitted_M', 0.25), ('Gender', 0.23), ('Interest_Rate_Q1', 0.23), ('Loan_Tenure_Submitted_Q2', -0.19), ('Loan_Amount_Submitted_Q3', 0.17), ('Interest_Rate_M', -0.16), ('Var4', 0.15), ('Filled_Form', 0.1), ('Var5', -0.1), ('Loan_Tenure_Submitted_Q1', 0.1), ('Loan_Tenure_Submitted_Q4', 0.08), ('Interest_Rate_Q3', -0.06), ('Lead_Creation_Client_Age', 0.05), ('Loan_Eqeuality', -0.05)]\n",
      "{'classifier__class_weight': {0: 0.01, 1: 0.99}, 'classifier__penalty': 'l1', 'classifier__threshold': 0.75}\n",
      "model score(F1): 0.102\n",
      "model accuracy: 0.899\n"
     ]
    }
   ],
   "source": [
    "from sklearn.feature_selection import RFECV\n",
    "from sklearn.metrics import accuracy_score\n",
    "\n",
    "pipe = Pipeline(steps=[('preprocessor_pipe', preprocessor_pipe),\n",
    "                       ('feature_selection', RFECV(estimator=LogisticRegression(\n",
    "                           class_weight={0: 0.01, 1: 0.99}, penalty='l1'), step=1,\n",
    "                           min_features_to_select=5, scoring='f1')),\n",
    "                       ('classifier', ThresholdEstimator(LogisticRegression)()),\n",
    "                       ])\n",
    "parameters_grid = {'classifier__penalty': ['l1', 'l2'],\n",
    "                   'classifier__class_weight': [{0: 0.01, 1: 0.99}, {0: 0.05, 1: 0.95},\n",
    "                                                {0: 0.05, 1: 0.995}],\n",
    "                   'classifier__threshold': [0.65, 0.75, 0.85, 0.77]}\n",
    "gs = GridSearchCV(pipe, param_grid, cv=8, scoring='f1', n_jobs=2)\n",
    "gs.fit(X_train, y_train)\n",
    "y_pred = gs.predict(X_test)\n",
    "values = gs.best_estimator_['classifier'].coef_[0].round(2)\n",
    "importances = dict(zip(column_names, values))\n",
    "important_features = sorted(importances.items(), key=lambda x: abs(x[1]), reverse=True)\n",
    "print(important_features)\n",
    "print(gs.best_params_)\n",
    "print(\"model score(F1): %.3f\" % gs.score(X_test, y_test))\n",
    "print(\"model accuracy: %.3f\" % accuracy_score(y_test, y_pred))\n",
    "\n"
   ]
  },
  {
   "cell_type": "markdown",
   "metadata": {},
   "source": []
  }
 ],
 "metadata": {
  "kernelspec": {
   "display_name": "Python 3",
   "language": "python",
   "name": "python3"
  },
  "language_info": {
   "codemirror_mode": {
    "name": "ipython",
    "version": 3
   },
   "file_extension": ".py",
   "mimetype": "text/x-python",
   "name": "python",
   "nbconvert_exporter": "python",
   "pygments_lexer": "ipython3",
   "version": "3.6.8"
  }
 },
 "nbformat": 4,
 "nbformat_minor": 2
}
